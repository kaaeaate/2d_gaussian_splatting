{
 "cells": [
  {
   "cell_type": "code",
   "execution_count": 1,
   "metadata": {},
   "outputs": [],
   "source": [
    "import argparse\n",
    "import os\n",
    "import torch\n",
    "\n",
    "from utils.validation_utils import get_video\n",
    "from utils.preprocessing import initialize_tensors, make_parameter\n",
    "from train import train"
   ]
  },
  {
   "cell_type": "code",
   "execution_count": 2,
   "metadata": {},
   "outputs": [],
   "source": [
    "def get_args():\n",
    "    parser = argparse.ArgumentParser(conflict_handler='resolve')\n",
    "    parser.add_argument('--first_iter', default=0, type=int)\n",
    "    parser.add_argument('--iterations', default=5000, type=int)\n",
    "    parser.add_argument('--refinement_iter', default=1, type=int)\n",
    "    parser.add_argument('--densification_iter', default=250, type=int)\n",
    "    parser.add_argument('--logging_iter', default=100, type=int)    \n",
    "    parser.add_argument('--img_size', default=(256, 256), type=tuple)\n",
    "    parser.add_argument('--gaussian_init_scale', '-gs', default=5, type=int)\n",
    "    \n",
    "    parser.add_argument('--scale_factor', default=1.6, type=float)\n",
    "    parser.add_argument('--start_points_number', default=1000, type=int)\n",
    "    parser.add_argument('--limit_points_number', default=10000, type=int)\n",
    "    parser.add_argument('--grad_threshold', default=0.002, type=float)\n",
    "    parser.add_argument('--gauss_threshold', default=0.05, type=float)\n",
    "    \n",
    "    parser.add_argument('--learning_rate', '-lr', default=0.01, type=float)\n",
    "    parser.add_argument('--lambda', default=0.2, type=float)\n",
    "    \n",
    "    parser.add_argument('--image_path', default='images/mikki.jpg', type=str)\n",
    "    parser.add_argument('--output_folder', default=None, type=str)\n",
    "    parser.add_argument('--get_video', default=False, type=bool)\n",
    "    args, _ = parser.parse_known_args()\n",
    "    args.device = 'cuda'\n",
    "    \n",
    "    return args"
   ]
  },
  {
   "cell_type": "code",
   "execution_count": 3,
   "metadata": {},
   "outputs": [],
   "source": [
    "args = get_args()"
   ]
  },
  {
   "cell_type": "markdown",
   "metadata": {},
   "source": [
    "### Load image and initialize necessary tensors"
   ]
  },
  {
   "cell_type": "code",
   "execution_count": 6,
   "metadata": {},
   "outputs": [],
   "source": [
    "gt_image, current_points_places, scaling, rotation, colors, alphas, points_locations = initialize_tensors(args)\n",
    "exp_name = 'test_exp'\n",
    "output_path = f'experiments/{exp_name}'\n",
    "os.makedirs(output_path, exist_ok=True)\n",
    "os.makedirs(f'{output_path}/images', exist_ok=True)"
   ]
  },
  {
   "cell_type": "code",
   "execution_count": 7,
   "metadata": {},
   "outputs": [],
   "source": [
    "cov_matrix = torch.cat([scaling, rotation], dim=1)\n",
    "rgba_matrix = torch.cat([alphas, colors], dim=1)\n",
    "cov_matrix_tensor, rgba_matrix_tensor, points_locs_rensor = make_parameter([cov_matrix, rgba_matrix, points_locations])"
   ]
  },
  {
   "cell_type": "markdown",
   "metadata": {},
   "source": [
    "### Run train"
   ]
  },
  {
   "cell_type": "code",
   "execution_count": 9,
   "metadata": {},
   "outputs": [],
   "source": [
    "train(args, gt_image, cov_matrix_tensor, rgba_matrix_tensor, points_locs_rensor, current_points_places, output_path)"
   ]
  },
  {
   "cell_type": "markdown",
   "metadata": {},
   "source": [
    "### Get video"
   ]
  },
  {
   "cell_type": "code",
   "execution_count": 3,
   "metadata": {},
   "outputs": [],
   "source": [
    "exp_path = output_path\n",
    "get_video(exp_path, video_name='test_video')"
   ]
  }
 ],
 "metadata": {
  "accelerator": "GPU",
  "colab": {
   "provenance": []
  },
  "kernelspec": {
   "display_name": "Python 3 (ipykernel)",
   "language": "python",
   "name": "python3"
  },
  "language_info": {
   "codemirror_mode": {
    "name": "ipython",
    "version": 3
   },
   "file_extension": ".py",
   "mimetype": "text/x-python",
   "name": "python",
   "nbconvert_exporter": "python",
   "pygments_lexer": "ipython3",
   "version": "3.9.16"
  }
 },
 "nbformat": 4,
 "nbformat_minor": 1
}
